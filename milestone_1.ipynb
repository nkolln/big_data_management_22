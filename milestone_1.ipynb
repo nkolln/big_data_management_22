{
 "cells": [
  {
   "cell_type": "code",
   "execution_count": 135,
   "metadata": {},
   "outputs": [],
   "source": [
    "import numpy as np\n",
    "from pyspark.sql import SparkSession\n",
    "import math\n",
    "import pandas as pd\n"
   ]
  },
  {
   "cell_type": "code",
   "execution_count": 178,
   "metadata": {},
   "outputs": [
    {
     "data": {
      "text/plain": [
       "0      25326.990\n",
       "1      25817.260\n",
       "2      27458.575\n",
       "3      20787.355\n",
       "4      22224.585\n",
       "         ...    \n",
       "194    20736.075\n",
       "195    15015.325\n",
       "196    11720.125\n",
       "197    10986.580\n",
       "198    13793.040\n",
       "Length: 199, dtype: float64"
      ]
     },
     "execution_count": 178,
     "metadata": {},
     "output_type": "execute_result"
    }
   ],
   "source": [
    "df = pd.read_csv('Milestone_1_small.csv')\n",
    "price_2 = np.random.rand(199)\n",
    "df[\"Q_2\"] = price_2\n",
    "#print(df)\n",
    "#df[['Price','Quantity']].mean(axis = 1)"
   ]
  },
  {
   "cell_type": "code",
   "execution_count": 155,
   "metadata": {},
   "outputs": [],
   "source": [
    "def aggregation(Y, min, max, avg):\n",
    "    if min is True:\n",
    "        y_prime = np.min(Y, axis=0)\n",
    "    elif max is True:\n",
    "        y_prime = np.max(Y, axis=0)\n",
    "    elif avg is True:\n",
    "        y_prime = np.mean(Y, axis=0)\n",
    "    return y_prime\n",
    "        "
   ]
  },
  {
   "cell_type": "code",
   "execution_count": 138,
   "metadata": {},
   "outputs": [],
   "source": [
    "def cos_similarity(X, Y, agg):\n",
    "    if agg == 'min':\n",
    "        y_prime = np.asarray(aggregation(Y, True, False, False))\n",
    "    elif agg == 'max':\n",
    "        y_prime = np.asarray(aggregation(Y, False, True, False))\n",
    "    else:\n",
    "        y_prime = np.asarray(aggregation(Y, False, False, True))\n",
    "    print(y_prime)\n",
    "    tot_numerator = 0\n",
    "    for i in range(len(X)):\n",
    "        tot_numerator += X[i] * y_prime[i]\n",
    "    tot_denominator = math.sqrt(sum(i**2 for i in X)) * math.sqrt(sum(j**2 for j in y_prime))\n",
    "    print(\"Numerator is:\", tot_numerator)\n",
    "    print(\"Denominator is:\", tot_denominator)\n",
    "    cos_sim = tot_numerator/tot_denominator\n",
    "    return cos_sim\n",
    "    \n",
    "\n",
    "        "
   ]
  },
  {
   "cell_type": "code",
   "execution_count": 189,
   "metadata": {},
   "outputs": [],
   "source": [
    "#data = [df['Price'].to_numpy(), df['Quantity'].to_numpy()]\n",
    "#pd.DataFrame(data)\n",
    "#print(data)\n",
    "\n",
    "\n",
    "\n",
    "def comparison(data):\n",
    "    res = []\n",
    "    for i in range(len(data.columns)):\n",
    "        for j in range(len(data.columns)):\n",
    "            res.append(cos_similarity(data[data.columns[i]], data[data.columns[j]], 'min'))\n",
    "    return res\n",
    "    \n",
    "    "
   ]
  },
  {
   "cell_type": "code",
   "execution_count": 190,
   "metadata": {},
   "outputs": [
    {
     "name": "stdout",
     "output_type": "stream",
     "text": [
      "16.26\n"
     ]
    },
    {
     "ename": "IndexError",
     "evalue": "too many indices for array: array is 0-dimensional, but 1 were indexed",
     "output_type": "error",
     "traceback": [
      "\u001b[1;31m---------------------------------------------------------------------------\u001b[0m",
      "\u001b[1;31mIndexError\u001b[0m                                Traceback (most recent call last)",
      "\u001b[1;32mc:\\users\\vladv\\appdata\\local\\packages\\pythonsoftwarefoundation.python.3.9_qbz5n2kfra8p0\\localcache\\local-packages\\python39\\site-packages\\milestone_1.ipynb Cell 6'\u001b[0m in \u001b[0;36m<module>\u001b[1;34m\u001b[0m\n\u001b[0;32m      <a href='vscode-notebook-cell:/c%3A/users/vladv/appdata/local/packages/pythonsoftwarefoundation.python.3.9_qbz5n2kfra8p0/localcache/local-packages/python39/site-packages/milestone_1.ipynb#ch0000008?line=0'>1</a>\u001b[0m \u001b[39m#print(cos_similarity(df['Price'].to_numpy(), df['Quantity'].to_numpy(), 'min'))\u001b[39;00m\n\u001b[0;32m      <a href='vscode-notebook-cell:/c%3A/users/vladv/appdata/local/packages/pythonsoftwarefoundation.python.3.9_qbz5n2kfra8p0/localcache/local-packages/python39/site-packages/milestone_1.ipynb#ch0000008?line=1'>2</a>\u001b[0m \u001b[39m#print(df['Price'].to_numpy())\u001b[39;00m\n\u001b[0;32m      <a href='vscode-notebook-cell:/c%3A/users/vladv/appdata/local/packages/pythonsoftwarefoundation.python.3.9_qbz5n2kfra8p0/localcache/local-packages/python39/site-packages/milestone_1.ipynb#ch0000008?line=2'>3</a>\u001b[0m \u001b[39m#print(np.asarray(df['Price']))\u001b[39;00m\n\u001b[1;32m   (...)\u001b[0m\n\u001b[0;32m     <a href='vscode-notebook-cell:/c%3A/users/vladv/appdata/local/packages/pythonsoftwarefoundation.python.3.9_qbz5n2kfra8p0/localcache/local-packages/python39/site-packages/milestone_1.ipynb#ch0000008?line=9'>10</a>\u001b[0m \u001b[39m#print(aggregation(y, True, False, False))\u001b[39;00m\n\u001b[0;32m     <a href='vscode-notebook-cell:/c%3A/users/vladv/appdata/local/packages/pythonsoftwarefoundation.python.3.9_qbz5n2kfra8p0/localcache/local-packages/python39/site-packages/milestone_1.ipynb#ch0000008?line=10'>11</a>\u001b[0m \u001b[39m#print(df['Price'].to_numpy())\u001b[39;00m\n\u001b[0;32m     <a href='vscode-notebook-cell:/c%3A/users/vladv/appdata/local/packages/pythonsoftwarefoundation.python.3.9_qbz5n2kfra8p0/localcache/local-packages/python39/site-packages/milestone_1.ipynb#ch0000008?line=11'>12</a>\u001b[0m data \u001b[39m=\u001b[39m df[[\u001b[39m'\u001b[39m\u001b[39mPrice\u001b[39m\u001b[39m'\u001b[39m, \u001b[39m'\u001b[39m\u001b[39mQuantity\u001b[39m\u001b[39m'\u001b[39m]]\n\u001b[1;32m---> <a href='vscode-notebook-cell:/c%3A/users/vladv/appdata/local/packages/pythonsoftwarefoundation.python.3.9_qbz5n2kfra8p0/localcache/local-packages/python39/site-packages/milestone_1.ipynb#ch0000008?line=12'>13</a>\u001b[0m comparison(data)\n",
      "\u001b[1;32mc:\\users\\vladv\\appdata\\local\\packages\\pythonsoftwarefoundation.python.3.9_qbz5n2kfra8p0\\localcache\\local-packages\\python39\\site-packages\\milestone_1.ipynb Cell 5'\u001b[0m in \u001b[0;36mcomparison\u001b[1;34m(data)\u001b[0m\n\u001b[0;32m      <a href='vscode-notebook-cell:/c%3A/users/vladv/appdata/local/packages/pythonsoftwarefoundation.python.3.9_qbz5n2kfra8p0/localcache/local-packages/python39/site-packages/milestone_1.ipynb#ch0000004?line=8'>9</a>\u001b[0m \u001b[39mfor\u001b[39;00m i \u001b[39min\u001b[39;00m \u001b[39mrange\u001b[39m(\u001b[39mlen\u001b[39m(data\u001b[39m.\u001b[39mcolumns)):\n\u001b[0;32m     <a href='vscode-notebook-cell:/c%3A/users/vladv/appdata/local/packages/pythonsoftwarefoundation.python.3.9_qbz5n2kfra8p0/localcache/local-packages/python39/site-packages/milestone_1.ipynb#ch0000004?line=9'>10</a>\u001b[0m     \u001b[39mfor\u001b[39;00m j \u001b[39min\u001b[39;00m \u001b[39mrange\u001b[39m(\u001b[39mlen\u001b[39m(data\u001b[39m.\u001b[39mcolumns)):\n\u001b[1;32m---> <a href='vscode-notebook-cell:/c%3A/users/vladv/appdata/local/packages/pythonsoftwarefoundation.python.3.9_qbz5n2kfra8p0/localcache/local-packages/python39/site-packages/milestone_1.ipynb#ch0000004?line=10'>11</a>\u001b[0m         res\u001b[39m.\u001b[39mappend(cos_similarity(data[data\u001b[39m.\u001b[39;49mcolumns[i]], data[data\u001b[39m.\u001b[39;49mcolumns[j]], \u001b[39m'\u001b[39;49m\u001b[39mmin\u001b[39;49m\u001b[39m'\u001b[39;49m))\n\u001b[0;32m     <a href='vscode-notebook-cell:/c%3A/users/vladv/appdata/local/packages/pythonsoftwarefoundation.python.3.9_qbz5n2kfra8p0/localcache/local-packages/python39/site-packages/milestone_1.ipynb#ch0000004?line=11'>12</a>\u001b[0m \u001b[39mreturn\u001b[39;00m res\n",
      "\u001b[1;32mc:\\users\\vladv\\appdata\\local\\packages\\pythonsoftwarefoundation.python.3.9_qbz5n2kfra8p0\\localcache\\local-packages\\python39\\site-packages\\milestone_1.ipynb Cell 4'\u001b[0m in \u001b[0;36mcos_similarity\u001b[1;34m(X, Y, agg)\u001b[0m\n\u001b[0;32m      <a href='vscode-notebook-cell:/c%3A/users/vladv/appdata/local/packages/pythonsoftwarefoundation.python.3.9_qbz5n2kfra8p0/localcache/local-packages/python39/site-packages/milestone_1.ipynb#ch0000003?line=8'>9</a>\u001b[0m tot_numerator \u001b[39m=\u001b[39m \u001b[39m0\u001b[39m\n\u001b[0;32m     <a href='vscode-notebook-cell:/c%3A/users/vladv/appdata/local/packages/pythonsoftwarefoundation.python.3.9_qbz5n2kfra8p0/localcache/local-packages/python39/site-packages/milestone_1.ipynb#ch0000003?line=9'>10</a>\u001b[0m \u001b[39mfor\u001b[39;00m i \u001b[39min\u001b[39;00m \u001b[39mrange\u001b[39m(\u001b[39mlen\u001b[39m(X)):\n\u001b[1;32m---> <a href='vscode-notebook-cell:/c%3A/users/vladv/appdata/local/packages/pythonsoftwarefoundation.python.3.9_qbz5n2kfra8p0/localcache/local-packages/python39/site-packages/milestone_1.ipynb#ch0000003?line=10'>11</a>\u001b[0m     tot_numerator \u001b[39m+\u001b[39m\u001b[39m=\u001b[39m X[i] \u001b[39m*\u001b[39m y_prime[i]\n\u001b[0;32m     <a href='vscode-notebook-cell:/c%3A/users/vladv/appdata/local/packages/pythonsoftwarefoundation.python.3.9_qbz5n2kfra8p0/localcache/local-packages/python39/site-packages/milestone_1.ipynb#ch0000003?line=11'>12</a>\u001b[0m tot_denominator \u001b[39m=\u001b[39m math\u001b[39m.\u001b[39msqrt(\u001b[39msum\u001b[39m(i\u001b[39m*\u001b[39m\u001b[39m*\u001b[39m\u001b[39m2\u001b[39m \u001b[39mfor\u001b[39;00m i \u001b[39min\u001b[39;00m X)) \u001b[39m*\u001b[39m math\u001b[39m.\u001b[39msqrt(\u001b[39msum\u001b[39m(j\u001b[39m*\u001b[39m\u001b[39m*\u001b[39m\u001b[39m2\u001b[39m \u001b[39mfor\u001b[39;00m j \u001b[39min\u001b[39;00m y_prime))\n\u001b[0;32m     <a href='vscode-notebook-cell:/c%3A/users/vladv/appdata/local/packages/pythonsoftwarefoundation.python.3.9_qbz5n2kfra8p0/localcache/local-packages/python39/site-packages/milestone_1.ipynb#ch0000003?line=12'>13</a>\u001b[0m \u001b[39mprint\u001b[39m(\u001b[39m\"\u001b[39m\u001b[39mNumerator is:\u001b[39m\u001b[39m\"\u001b[39m, tot_numerator)\n",
      "\u001b[1;31mIndexError\u001b[0m: too many indices for array: array is 0-dimensional, but 1 were indexed"
     ]
    }
   ],
   "source": [
    "#print(cos_similarity(df['Price'].to_numpy(), df['Quantity'].to_numpy(), 'min'))\n",
    "#print(df['Price'].to_numpy())\n",
    "#print(np.asarray(df['Price']))\n",
    "#data = [df['Price'].to_numpy(), df['Quantity'].to_numpy()]\n",
    "\n",
    "#print(type(df['Quantity'].to_numpy()))\n",
    "#print(aggregation(data, False, False, True))\n",
    "#y = np.array([[1,2,1,6],[3,4,1,0]])\n",
    "#x = np.array([3,1,4,2])\n",
    "#print(aggregation(y, True, False, False))\n",
    "#print(df['Price'].to_numpy())\n",
    "data = df[['Price', 'Quantity']]\n",
    "comparison(data)\n",
    "\n",
    "\n"
   ]
  },
  {
   "cell_type": "code",
   "execution_count": 141,
   "metadata": {},
   "outputs": [
    {
     "name": "stdout",
     "output_type": "stream",
     "text": [
      "[3 4 1 6]\n",
      "Numerator is: 29\n",
      "Denominator is: 43.12771730569565\n",
      "0.6724213988522441\n"
     ]
    }
   ],
   "source": [
    "y = np.array([[1,2,1,6],[3,4,1,0]])\n",
    "x = np.array([3,1,4,2])\n",
    "result = cos_similarity(x,y,'max')\n",
    "print(result)\n",
    "tao = 0.2\n",
    "final_result = []\n",
    "#for r in range(len(result)):\n",
    "    #if result[r] <= tao:\n",
    "       #final_result.append(result[r])\n",
    "#print(np.asarray(final_result))"
   ]
  }
 ],
 "metadata": {
  "interpreter": {
   "hash": "43561d27825e8c47477553d05520bc7ae9c48bb558a8e90915a3955b1a3bcb18"
  },
  "kernelspec": {
   "display_name": "Python 3.9.10 64-bit (windows store)",
   "language": "python",
   "name": "python3"
  },
  "language_info": {
   "codemirror_mode": {
    "name": "ipython",
    "version": 3
   },
   "file_extension": ".py",
   "mimetype": "text/x-python",
   "name": "python",
   "nbconvert_exporter": "python",
   "pygments_lexer": "ipython3",
   "version": "3.9.10"
  },
  "orig_nbformat": 4
 },
 "nbformat": 4,
 "nbformat_minor": 2
}
