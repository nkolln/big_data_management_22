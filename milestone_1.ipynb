{
 "cells": [
  {
   "cell_type": "code",
   "execution_count": 1,
   "metadata": {},
   "outputs": [],
   "source": [
    "import numpy as np\n",
    "from pyspark.sql import SparkSession\n",
    "import math\n",
    "import pandas as pd\n"
   ]
  },
  {
   "cell_type": "code",
   "execution_count": 7,
   "metadata": {},
   "outputs": [
    {
     "name": "stdout",
     "output_type": "stream",
     "text": [
      "     Price  Quantity       Q_2\n",
      "0    18.98     50635  0.043715\n",
      "1    18.52     51616  0.325646\n",
      "2    19.15     54898  0.399885\n",
      "3    19.71     41555  0.562075\n",
      "4    19.17     44430  0.285892\n",
      "..     ...       ...       ...\n",
      "194  27.15     41445  0.356139\n",
      "195  26.65     30004  0.951103\n",
      "196  27.25     23413  0.932997\n",
      "197  27.16     21946  0.910786\n",
      "198  27.08     27559  0.661300\n",
      "\n",
      "[199 rows x 3 columns]\n",
      "Index(['Price', 'Quantity', 'Q_2'], dtype='object')\n"
     ]
    }
   ],
   "source": [
    "df = pd.read_csv('Milestone_1_small.csv')\n",
    "price_2 = np.random.rand(199)\n",
    "df[\"Q_2\"] = price_2\n",
    "print(df)\n",
    "\n",
    "print(df.columns)"
   ]
  },
  {
   "cell_type": "code",
   "execution_count": 31,
   "metadata": {},
   "outputs": [],
   "source": [
    "def aggregation(Y, min, max, avg):\n",
    "    Y1 = list(Y[0])\n",
    "    Y2 = list(Y[1])\n",
    "    if min is True:\n",
    "        y_prime = np.minimum(Y1, Y2)\n",
    "    elif max is True:\n",
    "        y_prime = np.maximum(Y1, Y2)\n",
    "    elif avg is True:\n",
    "        y_prime = np.mean([Y1, Y2], axis = 0) \n",
    "    return y_prime\n",
    "        "
   ]
  },
  {
   "cell_type": "code",
   "execution_count": 36,
   "metadata": {},
   "outputs": [],
   "source": [
    "def cos_similarity(X, Y, agg):\n",
    "    if agg == 'min':\n",
    "        y_prime = np.asarray(aggregation(Y, True, False, False))\n",
    "    elif agg == 'max':\n",
    "        y_prime = np.asarray(aggregation(Y, False, True, False))\n",
    "    elif agg == 'avg':\n",
    "        y_prime = np.asarray(aggregation(Y, False, False, True))\n",
    "    else:\n",
    "        return \"Select a proper aggregation function!\"\n",
    "        \n",
    "    tot_numerator = 0\n",
    "    for i in range(len(X)):\n",
    "        tot_numerator += X[i] * y_prime[i]\n",
    "    tot_denominator = math.sqrt(sum(i**2 for i in X)) * math.sqrt(sum(j**2 for j in y_prime))\n",
    "\n",
    "    cos_sim = tot_numerator/tot_denominator\n",
    "    return cos_sim\n",
    "    \n",
    "\n",
    "        "
   ]
  },
  {
   "cell_type": "code",
   "execution_count": 38,
   "metadata": {},
   "outputs": [
    {
     "name": "stdout",
     "output_type": "stream",
     "text": [
      "final result:[1.0, 0.8515545591603031, 0.8063853853239129, 0.6983295158961094, 1.0000000000000002, 1.0000000000000002]\n"
     ]
    }
   ],
   "source": [
    "def comparison(df):\n",
    "    return [cos_similarity(df[df.columns[i]], [df[df.columns[i]], df[df.columns[j]]], 'min') \n",
    "            for i in range(len(df.columns)) for j in range(len(df.columns)) if i != j]\n",
    "\n",
    "\n",
    "data = df\n",
    "comparison(df)\n",
    "\n",
    "print(\"final result:\" + str(comparison(df)))\n"
   ]
  },
  {
   "cell_type": "code",
   "execution_count": 34,
   "metadata": {},
   "outputs": [
    {
     "data": {
      "text/plain": [
       "array([2., 3., 1., 3.])"
      ]
     },
     "execution_count": 34,
     "metadata": {},
     "output_type": "execute_result"
    }
   ],
   "source": [
    "Y = [[1,2,1,6],[3,4,1,0]]\n",
    "x = np.array([3,1,4,2])\n",
    "aggregation(Y, False, False, True)\n",
    "#for r in range(len(result)):\n",
    "    #if result[r] <= tao:\n",
    "       #final_result.append(result[r])\n",
    "#print(np.asarray(final_result))"
   ]
  }
 ],
 "metadata": {
  "interpreter": {
   "hash": "43561d27825e8c47477553d05520bc7ae9c48bb558a8e90915a3955b1a3bcb18"
  },
  "kernelspec": {
   "display_name": "Python 3.9.10 64-bit (windows store)",
   "language": "python",
   "name": "python3"
  },
  "language_info": {
   "codemirror_mode": {
    "name": "ipython",
    "version": 3
   },
   "file_extension": ".py",
   "mimetype": "text/x-python",
   "name": "python",
   "nbconvert_exporter": "python",
   "pygments_lexer": "ipython3",
   "version": "3.9.10"
  },
  "orig_nbformat": 4
 },
 "nbformat": 4,
 "nbformat_minor": 2
}
