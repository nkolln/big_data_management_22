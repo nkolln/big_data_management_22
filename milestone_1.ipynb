{
 "cells": [
  {
   "cell_type": "code",
   "execution_count": 20,
   "metadata": {},
   "outputs": [],
   "source": [
    "import numpy as np\n",
    "from pyspark.sql import SparkSession\n",
    "import math\n",
    "import pandas as pd\n"
   ]
  },
  {
   "cell_type": "code",
   "execution_count": 21,
   "metadata": {},
   "outputs": [
    {
     "name": "stdout",
     "output_type": "stream",
     "text": [
      "     Price  Quantity       Q_2       Q_3\n",
      "0    18.98     50635  0.517774  0.417878\n",
      "1    18.52     51616  0.632801  0.659492\n",
      "2    19.15     54898  0.141005  0.798742\n",
      "3    19.71     41555  0.569245  0.097026\n",
      "4    19.17     44430  0.575771  0.135642\n",
      "..     ...       ...       ...       ...\n",
      "194  27.15     41445  0.045053  0.596358\n",
      "195  26.65     30004  0.847020  0.971315\n",
      "196  27.25     23413  0.870896  0.300102\n",
      "197  27.16     21946  0.965058  0.297766\n",
      "198  27.08     27559  0.912533  0.308019\n",
      "\n",
      "[199 rows x 4 columns]\n",
      "Index(['Price', 'Quantity', 'Q_2', 'Q_3'], dtype='object')\n"
     ]
    }
   ],
   "source": [
    "df = pd.read_csv('Milestone_1_small.csv')\n",
    "price_2 = np.random.rand(199)\n",
    "price_3 = np.random.rand(199)\n",
    "df[\"Q_2\"] = price_2\n",
    "df['Q_3'] = price_3\n",
    "print(df)\n",
    "\n",
    "print(df.columns)"
   ]
  },
  {
   "cell_type": "code",
   "execution_count": 22,
   "metadata": {},
   "outputs": [],
   "source": [
    "def aggregation(Y, min, max, avg):\n",
    "    Y1 = list(Y[0])\n",
    "    Y2 = list(Y[1])\n",
    "    if min is True:\n",
    "        y_prime = np.minimum(Y1, Y2)\n",
    "    elif max is True:\n",
    "        y_prime = np.maximum(Y1, Y2)\n",
    "    elif avg is True:\n",
    "        y_prime = np.mean([Y1, Y2], axis = 0) \n",
    "    return y_prime\n",
    "        "
   ]
  },
  {
   "cell_type": "code",
   "execution_count": 23,
   "metadata": {},
   "outputs": [],
   "source": [
    "def cos_similarity(X, Y, agg):\n",
    "    if agg == 'min':\n",
    "        y_prime = np.asarray(aggregation(Y, True, False, False))\n",
    "    elif agg == 'max':\n",
    "        y_prime = np.asarray(aggregation(Y, False, True, False))\n",
    "    elif agg == 'avg':\n",
    "        y_prime = np.asarray(aggregation(Y, False, False, True))\n",
    "    else:\n",
    "        return \"Select a proper aggregation function!\"\n",
    "        \n",
    "    tot_numerator = 0\n",
    "    for i in range(len(X)):\n",
    "        tot_numerator += X[i] * y_prime[i]\n",
    "    tot_denominator = math.sqrt(sum(i**2 for i in X)) * math.sqrt(sum(j**2 for j in y_prime))\n",
    "\n",
    "    cos_sim = tot_numerator/tot_denominator\n",
    "    return cos_sim\n",
    "    \n",
    "\n",
    "        "
   ]
  },
  {
   "cell_type": "code",
   "execution_count": 24,
   "metadata": {},
   "outputs": [],
   "source": [
    "def comparison(data):\n",
    "    return [cos_similarity(data[data.columns[i]], [data[data.columns[i + 1]], data[data.columns[k]]], 'max') \n",
    "            for i in range(len(data.columns))  for k in range(i + 2, len(data.columns))]"
   ]
  },
  {
   "cell_type": "code",
   "execution_count": 25,
   "metadata": {},
   "outputs": [],
   "source": [
    "def check_tau(data, tau):\n",
    "    results = []\n",
    "    for i in range(len(comparison(data))):\n",
    "        if comparison(data)[i] >= tau:\n",
    "            results.append(i)\n",
    "    return results\n",
    "\n"
   ]
  },
  {
   "cell_type": "code",
   "execution_count": 29,
   "metadata": {},
   "outputs": [
    {
     "name": "stdout",
     "output_type": "stream",
     "text": [
      "final result:[0.8063853853239129, 0.8063853853239129, 0.7885909350716113]\n",
      "tau:[0, 1]\n"
     ]
    }
   ],
   "source": [
    "data = df\n",
    "#comparison(df)\n",
    "\n",
    "print(\"final result:\" + str(comparison(data)))\n",
    "print(\"tau:\" + str(check_tau(data, 0.8)))"
   ]
  },
  {
   "cell_type": "code",
   "execution_count": 27,
   "metadata": {},
   "outputs": [
    {
     "name": "stdout",
     "output_type": "stream",
     "text": [
      "0 0 1\n",
      "0 0 2\n",
      "0 1 2\n",
      "1 0 1\n",
      "1 0 2\n",
      "1 1 2\n",
      "2 0 1\n",
      "2 0 2\n",
      "2 1 2\n",
      "0 0 1\n",
      "0 0 2\n",
      "0 1 2\n",
      "1 0 1\n",
      "1 0 2\n",
      "1 1 2\n",
      "2 0 1\n",
      "2 0 2\n",
      "2 1 2\n"
     ]
    }
   ],
   "source": [
    "#Y = [[1,2,1,6],[3,4,1,0]]\n",
    "#x = np.array([3,1,4,2])\n",
    "#aggregation(Y, False, False, True)\n",
    "\n",
    "\n",
    "\n",
    "# first option for indexing(currently used)\n",
    "def yasemin():\n",
    "    for i in range(3):\n",
    "        for j in range(3):\n",
    "            for k in range(j + 1, 3):\n",
    "                print(i, j, k)\n",
    "\n",
    "yasemin()\n",
    "\n",
    "#second option for indexing\n",
    "\n",
    "import itertools\n",
    "mylist = [0,1,2]\n",
    "for i in range(3):\n",
    "    for a, b in itertools.combinations(mylist, 2):\n",
    "        print(i, a, b)\n",
    "\n"
   ]
  },
  {
   "cell_type": "code",
   "execution_count": 28,
   "metadata": {},
   "outputs": [
    {
     "name": "stdout",
     "output_type": "stream",
     "text": [
      "0.6724213988522441\n"
     ]
    }
   ],
   "source": [
    "y = np.array([[1,2,1,6],[3,4,1,0]])\n",
    "x = np.array([3,1,4,2])\n",
    "result = cos_similarity(x,y,'max')\n",
    "print(result)\n",
    "tao = 0.2\n",
    "final_result = []\n",
    "#for r in range(len(result)):\n",
    "    #if result[r] <= tao:\n",
    "       #final_result.append(result[r])\n",
    "#print(np.asarray(final_result))"
   ]
  }
 ],
 "metadata": {
  "interpreter": {
   "hash": "43561d27825e8c47477553d05520bc7ae9c48bb558a8e90915a3955b1a3bcb18"
  },
  "kernelspec": {
   "display_name": "Python 3.9.10 64-bit (windows store)",
   "language": "python",
   "name": "python3"
  },
  "language_info": {
   "codemirror_mode": {
    "name": "ipython",
    "version": 3
   },
   "file_extension": ".py",
   "mimetype": "text/x-python",
   "name": "python",
   "nbconvert_exporter": "python",
   "pygments_lexer": "ipython3",
   "version": "3.9.10"
  },
  "orig_nbformat": 4
 },
 "nbformat": 4,
 "nbformat_minor": 2
}
