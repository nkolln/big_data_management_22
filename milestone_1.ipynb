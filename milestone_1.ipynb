{
 "cells": [
  {
   "cell_type": "code",
   "execution_count": 25,
   "metadata": {},
   "outputs": [],
   "source": [
    "import numpy as np\n",
    "from pyspark.sql import SparkSession\n",
    "import math\n"
   ]
  },
  {
   "cell_type": "code",
   "execution_count": 26,
   "metadata": {},
   "outputs": [],
   "source": [
    "def aggregation(Y, min, max, avg):\n",
    "    if min is True:\n",
    "        y_prime = Y.min(axis=0)\n",
    "    elif max is True:\n",
    "        y_prime = Y.max(axis=0)\n",
    "    elif avg is True:\n",
    "        y_prime = Y.mean(axis=0)\n",
    "    return y_prime\n",
    "        "
   ]
  },
  {
   "cell_type": "code",
   "execution_count": 27,
   "metadata": {},
   "outputs": [],
   "source": [
    "def cos_similarity(X, Y):\n",
    "    y_prime = np.asarray(aggregation(Y, False, False, True))\n",
    "    print(y_prime)\n",
    "    tot_numerator = 0\n",
    "    cos_sim = []\n",
    "    for i in range(len(X)):\n",
    "        tot_numerator += X[i] * y_prime[i]\n",
    "    tot_denominator = math.sqrt(sum(i**2 for i in X)) * math.sqrt(sum(j**2 for j in y_prime))\n",
    "    print(\"Numerator is:\", tot_numerator)\n",
    "    print(\"Denominator is:\", tot_denominator)\n",
    "    cos_sim = tot_numerator/tot_denominator\n",
    "    return cos_sim\n",
    "    \n",
    "\n",
    "        "
   ]
  },
  {
   "cell_type": "code",
   "execution_count": 28,
   "metadata": {},
   "outputs": [
    {
     "name": "stdout",
     "output_type": "stream",
     "text": [
      "[2. 3. 1. 3.]\n",
      "Numerator is: 19.0\n",
      "Denominator is: 26.267851073127392\n",
      "0.723317638245537\n"
     ]
    }
   ],
   "source": [
    "y = np.array([[1,2,1,6],[3,4,1,0]])\n",
    "x = np.array([3,1,4,2])\n",
    "result = cos_similarity(x,y)\n",
    "print(result)\n",
    "tao = 0.2\n",
    "final_result = []\n",
    "#for r in range(len(result)):\n",
    "    #if result[r] <= tao:\n",
    "       #final_result.append(result[r])\n",
    "#print(np.asarray(final_result))"
   ]
  }
 ],
 "metadata": {
  "interpreter": {
   "hash": "43561d27825e8c47477553d05520bc7ae9c48bb558a8e90915a3955b1a3bcb18"
  },
  "kernelspec": {
   "display_name": "Python 3.9.10 64-bit (windows store)",
   "language": "python",
   "name": "python3"
  },
  "language_info": {
   "codemirror_mode": {
    "name": "ipython",
    "version": 3
   },
   "file_extension": ".py",
   "mimetype": "text/x-python",
   "name": "python",
   "nbconvert_exporter": "python",
   "pygments_lexer": "ipython3",
   "version": "3.9.10"
  },
  "orig_nbformat": 4
 },
 "nbformat": 4,
 "nbformat_minor": 2
}
