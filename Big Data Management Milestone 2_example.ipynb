{
 "cells": [
  {
   "cell_type": "code",
   "execution_count": 1,
   "metadata": {},
   "outputs": [],
   "source": [
    "from pyspark.sql import SparkSession, functions\n",
    "from pyspark.sql.types import *\n",
    "import pandas as pd\n",
    "import numpy as np"
   ]
  },
  {
   "cell_type": "code",
   "execution_count": 2,
   "metadata": {},
   "outputs": [],
   "source": [
    "spark = SparkSession.builder.getOrCreate()\n",
    "\n",
    "filename = \"stream_60_2000.txt\"\n",
    "\n",
    "schema = StructType([\\\n",
    "    StructField(\"sid\", IntegerType(), True),\\\n",
    "    StructField(\"ip\", IntegerType(), True)])\n",
    "\n",
    "text_file = spark.read.format(\"csv\").option(\"header\", \"false\").schema(schema).load(filename)\n",
    "df_int = text_file.toPandas()"
   ]
  },
  {
   "cell_type": "code",
   "execution_count": 3,
   "metadata": {},
   "outputs": [],
   "source": [
    "def create_dict(df_int):\n",
    "    num_srv = 100\n",
    "    srv_dict = {}\n",
    "    for i_srv in range(0, num_srv):\n",
    "        # list of all \"ip\" for \"sid\"==i_srv\n",
    "        ip_list = df_int[df_int[\"sid\"] == i_srv][\"ip\"].tolist()\n",
    "        # sort IP in the list\n",
    "        ip_list.sort()\n",
    "        #print(ip_list)\n",
    "\n",
    "        ip_dict = {}\n",
    "        # init with invalid value\n",
    "        ip_prev = -1\n",
    "        # go through all IP addresses for server 'i_srv'\n",
    "        for i_ip in range(0, len(ip_list)):\n",
    "            # skipp counting for already counted IP\n",
    "            if ip_list[i_ip] != ip_prev:\n",
    "                #print(ip_list.count(ip_list[i_ip]))\n",
    "                # add key 'ip' with value 'count of requests' to dictionary 'ip_dict'\n",
    "                ip_dict[ip_list[i_ip]] = ip_list.count(ip_list[i_ip])\n",
    "                # remember last checked IP\n",
    "                ip_prev = ip_list[i_ip]\n",
    "\n",
    "        # add new key 'i_srv' in dictionarry with value 'ip_dict'\n",
    "        if ip_dict != {}:\n",
    "            srv_dict[i_srv]=ip_dict\n",
    "    #print(srv_dict)\n",
    "    return srv_dict"
   ]
  },
  {
   "cell_type": "code",
   "execution_count": 4,
   "metadata": {},
   "outputs": [],
   "source": [
    "def similarity_a_b(array_a, array_b):\n",
    "    summation = 0\n",
    "    array_a_keys = list(array_a.keys())\n",
    "    array_b_keys = list(array_b.keys())\n",
    "    j = 0\n",
    "    k = 0\n",
    "    for m in range(0,max(len(array_a_keys),len(array_b_keys))):\n",
    "        if (array_a_keys[j] < array_b_keys[k]):\n",
    "#            print(\"j:\", j, \", k:\", k, \", value ip\" + str(array_a_keys[j]) + \":\", array_a.get(array_a_keys[j]), \", value ip\" + str(array_b_keys[k]) + \":\", array_b.get(array_b_keys[k]))\n",
    "            j = j + 1\n",
    "        elif (array_a_keys[j] > array_b_keys[k]):\n",
    "#            print(\"j:\", j, \", k:\", k, \", value ip\" + str(array_a_keys[j]) + \":\", array_a.get(array_a_keys[j]), \", value ip\" + str(array_b_keys[k]) + \":\", array_b.get(array_b_keys[k]))\n",
    "            k = k + 1\n",
    "        elif (array_a_keys[j] == array_b_keys[k]):\n",
    "#            print(\"j:\", j, \", k:\", k, \", value ip\" + str(array_a_keys[j]) + \":\", array_a.get(array_a_keys[j]), \", value ip\" + str(array_b_keys[k]) + \":\", array_b.get(array_b_keys[k]))\n",
    "            product = array_a.get(array_a_keys[j]) * array_b.get(array_b_keys[k])\n",
    "            summation = summation + product\n",
    "#            print(\"product:\", product, \", summation:\", summation)\n",
    "            j = j + 1\n",
    "            k = k + 1\n",
    "        if (j >= len(array_a_keys) or k >= len(array_b_keys)):\n",
    "            break\n",
    "#    print(\"Final summation:\", summation)\n",
    "    if summation > 3000:\n",
    "        return 1\n",
    "    else:\n",
    "        return 0           "
   ]
  },
  {
   "cell_type": "code",
   "execution_count": 5,
   "metadata": {},
   "outputs": [
    {
     "name": "stdout",
     "output_type": "stream",
     "text": [
      "120000, 44\n"
     ]
    }
   ],
   "source": [
    "def similarity_all(thisdict, num_serv):\n",
    "    count = 0\n",
    "    for i in range(0,num_serv):\n",
    "        for j in range(i+1,num_serv):\n",
    "            count = count + similarity_a_b(thisdict.get(i), thisdict.get(j))\n",
    "    print(str(text_file.count()) + \",\", count)\n",
    "\n",
    "srv_dict = create_dict(df_int)\n",
    "similarity_all(srv_dict, 100)"
   ]
  }
 ],
 "metadata": {
  "kernelspec": {
   "display_name": "Python 3",
   "language": "python",
   "name": "python3"
  },
  "language_info": {
   "codemirror_mode": {
    "name": "ipython",
    "version": 3
   },
   "file_extension": ".py",
   "mimetype": "text/x-python",
   "name": "python",
   "nbconvert_exporter": "python",
   "pygments_lexer": "ipython3",
   "version": "3.7.6"
  }
 },
 "nbformat": 4,
 "nbformat_minor": 4
}
